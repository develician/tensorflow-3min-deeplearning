{
 "cells": [
  {
   "cell_type": "code",
   "execution_count": 2,
   "metadata": {},
   "outputs": [],
   "source": [
    "import tensorflow as tf\n",
    "import numpy as np"
   ]
  },
  {
   "cell_type": "code",
   "execution_count": 8,
   "metadata": {},
   "outputs": [
    {
     "name": "stdout",
     "output_type": "stream",
     "text": [
      "10 1.2321179\n",
      "20 1.2260987\n",
      "30 1.2202829\n",
      "40 1.2146642\n",
      "50 1.2092351\n",
      "60 1.2039891\n",
      "70 1.1989194\n",
      "80 1.1940194\n",
      "90 1.189283\n",
      "100 1.1847035\n",
      "예측값:  [0 1 1 0 0 1]\n",
      "실제값:  [0 1 2 0 0 2]\n",
      "정확도: 66.67\n"
     ]
    }
   ],
   "source": [
    "# [털, 날개]\n",
    "x_data = np.array([[0,0], [1,0], [1,1], [0,0], [0,0], [0,1]])\n",
    "\n",
    "# one-hot encoding: 표현하려는 값을 뜻하는 인덱스의 원소만 1로 표기 나머지 0으로 표기\n",
    "# 기타 = [1, 0, 0]\n",
    "# 포유류 = [0, 1, 0]\n",
    "# 조류 = [0, 0, 1]\n",
    "\n",
    "y_data = np.array([\n",
    "    [1, 0, 0], # 기타\n",
    "    [0, 1, 0], # 포유류\n",
    "    [0, 0, 1], # 조류\n",
    "    [1, 0, 0],\n",
    "    [1, 0, 0],\n",
    "    [0, 0, 1]\n",
    "])\n",
    "\n",
    "# [털, 날개] -> [기타, 포유류, 조류]\n",
    "\n",
    "# X, Y에 실측값을 넣어 학습 시킬것이라, X, Y는 플레이스홀더로 설정\n",
    "\n",
    "X = tf.placeholder(tf.float32)\n",
    "Y = tf.placeholder(tf.float32)\n",
    "\n",
    "# 가중치와 편향함수 설정\n",
    "\n",
    "W = tf.Variable(tf.random_uniform([2, 3], -1., 1.))\n",
    "b = tf.Variable(tf.zeros([3]))\n",
    "# W: [입력층(특징 수), 출력층(레이블 수)] -> [2, 3]\n",
    "# b: 레이블 수인 3개의 요소를 가진 변수로 설정. \n",
    "\n",
    "L = tf.add(tf.matmul(X, W), b)\n",
    "L = tf.nn.relu(L)\n",
    "\n",
    "# softmax 함수를 이용하여 신경망을 통해 나온 출력값을 사용하기 쉽게 다듬어줌.\n",
    "# softmax: 배열내의 결과값들을 전체 합이 1이 되도록 만들어준다.  \n",
    "# ex) [8.04, 2.76, -6.52] -> [0.53, 0.24, 0.23]\n",
    "model = tf.nn.softmax(L)\n",
    "\n",
    "# 손실 함수 작성. one-hot encoding -> 교차 엔트로피(Cross-Entropy): 예측값과 실제값 사이의 확률 분포 차이를 계산한것. \n",
    "\n",
    "cost = tf.reduce_mean(-tf.reduce_sum(Y * tf.log(model), axis = 1))\n",
    "\n",
    "optimizer = tf.train.GradientDescentOptimizer(learning_rate = 0.01)\n",
    "train_op = optimizer.minimize(cost)\n",
    "\n",
    "init = tf.global_variables_initializer()\n",
    "sess = tf.Session()\n",
    "sess.run(init)\n",
    "\n",
    "for step in range(100):\n",
    "    sess.run(train_op, feed_dict={X: x_data, Y: y_data})\n",
    "    \n",
    "    # 학습 도중 10번에 한번씩 손실값을 출력\n",
    "    if (step + 1) % 10 == 0:\n",
    "        print(step+1, sess.run(cost, feed_dict={X: x_data, Y: y_data}))\n",
    "\n",
    "prediction = tf.argmax(model, axis = 1)\n",
    "target = tf.argmax(Y, axis = 1)\n",
    "print('예측값: ', sess.run(prediction, feed_dict={X: x_data}))\n",
    "print('실제값: ', sess.run(target, feed_dict={Y: y_data}))\n",
    "\n",
    "is_correct = tf.equal(prediction, target)\n",
    "accuracy = tf.reduce_mean(tf.cast(is_correct, tf.float32))\n",
    "print('정확도: %.2f' % sess.run(accuracy * 100, feed_dict={X: x_data, Y: y_data}))\n"
   ]
  },
  {
   "cell_type": "code",
   "execution_count": null,
   "metadata": {},
   "outputs": [],
   "source": []
  }
 ],
 "metadata": {
  "kernelspec": {
   "display_name": "Python 3",
   "language": "python",
   "name": "python3"
  },
  "language_info": {
   "codemirror_mode": {
    "name": "ipython",
    "version": 3
   },
   "file_extension": ".py",
   "mimetype": "text/x-python",
   "name": "python",
   "nbconvert_exporter": "python",
   "pygments_lexer": "ipython3",
   "version": "3.6.6"
  }
 },
 "nbformat": 4,
 "nbformat_minor": 2
}
